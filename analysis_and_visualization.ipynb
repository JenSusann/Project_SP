{
 "cells": [
  {
   "cell_type": "code",
   "execution_count": 22,
   "metadata": {},
   "outputs": [
    {
     "name": "stdout",
     "output_type": "stream",
     "text": [
      "Correlation between miss distance and magnitude: -0.3064389721210181, p-value: 0.0004584355653810183\n",
      "Correlation between mass and latitude: 0.02923451641321672, p-value: 1.1397218213609485e-08\n",
      "Correlation between mass and longitude: -0.021853853462669874, p-value: 1.9819796184217084e-05\n"
     ]
    },
    {
     "data": {
      "text/plain": [
       "<Figure size 1000x600 with 0 Axes>"
      ]
     },
     "metadata": {},
     "output_type": "display_data"
    },
    {
     "data": {
      "text/plain": [
       "<Figure size 1000x600 with 0 Axes>"
      ]
     },
     "metadata": {},
     "output_type": "display_data"
    },
    {
     "data": {
      "text/plain": [
       "<Figure size 1200x800 with 0 Axes>"
      ]
     },
     "metadata": {},
     "output_type": "display_data"
    },
    {
     "data": {
      "text/plain": [
       "<Figure size 1000x600 with 0 Axes>"
      ]
     },
     "metadata": {},
     "output_type": "display_data"
    },
    {
     "data": {
      "text/plain": [
       "<Figure size 1000x600 with 0 Axes>"
      ]
     },
     "metadata": {},
     "output_type": "display_data"
    }
   ],
   "source": [
    "import sqlite3\n",
    "import pandas as pd\n",
    "import seaborn as sns\n",
    "import matplotlib.pyplot as plt\n",
    "from scipy.stats import pearsonr\n",
    "\n",
    "def correlation_analysis_and_visualization(db_file='nasa_data.db'):\n",
    "    conn = sqlite3.connect(db_file)\n",
    "\n",
    "    # Load data\n",
    "    neows_data = pd.read_sql('SELECT * FROM neows_data', conn)\n",
    "    meteorite_data = pd.read_sql('SELECT * FROM meteorite_landings WHERE year IS NOT NULL AND \"mass (g)\" IS NOT NULL', conn)\n",
    "\n",
    "    # Example correlation analysis between miss distance and magnitude\n",
    "    correlation_neows, p_value_neows = pearsonr(neows_data['miss_distance_km'], neows_data['absolute_magnitude_h'])\n",
    "    print(f'Correlation between miss distance and magnitude: {correlation_neows}, p-value: {p_value_neows}')\n",
    "\n",
    "    # Visualize the distribution of potentially hazardous asteroids\n",
    "    plt.figure(figsize=(10, 6))\n",
    "    sns.countplot(data=neows_data, x='is_potentially_hazardous')\n",
    "    plt.title('Potentially Hazardous Asteroids')\n",
    "    plt.xlabel('Is Potentially Hazardous')\n",
    "    plt.ylabel('Count')\n",
    "    plt.savefig('potentially_hazardous_asteroids.png')\n",
    "    plt.clf()\n",
    "\n",
    "    # Visualize the relationship between miss distance and magnitude\n",
    "    plt.figure(figsize=(10, 6))\n",
    "    sns.scatterplot(data=neows_data, x='miss_distance_km', y='absolute_magnitude_h')\n",
    "    plt.title(f'Miss Distance vs Magnitude\\nCorrelation: {correlation_neows:.2f}, p-value: {p_value_neows:.2e}')\n",
    "    plt.xlabel('Miss Distance (km)')\n",
    "    plt.ylabel('Absolute Magnitude')\n",
    "    plt.savefig('miss_distance_vs_magnitude.png')\n",
    "    plt.clf()\n",
    "\n",
    "    # Frequency distribution of meteorite classes (recclass) - top 10 only\n",
    "    top_10_classes = meteorite_data['recclass'].value_counts().nlargest(10).index\n",
    "    top_10_data = meteorite_data[meteorite_data['recclass'].isin(top_10_classes)]\n",
    "\n",
    "    plt.figure(figsize=(12, 8))\n",
    "    sns.countplot(data=top_10_data, y='recclass', order=top_10_classes)\n",
    "    plt.title('Top 10 Most Frequent Meteorite Classes')\n",
    "    plt.xlabel('Count')\n",
    "    plt.ylabel('Meteorite Class')\n",
    "    plt.savefig('top_10_meteorite_class_distribution.png')\n",
    "    plt.clf()\n",
    "\n",
    "    # Correlation between mass and geographic points (latitude and longitude)\n",
    "    if 'reclat' in meteorite_data.columns and 'reclong' in meteorite_data.columns:\n",
    "        # Correlation and visualization for latitude\n",
    "        if meteorite_data['reclat'].nunique() > 1 and meteorite_data['mass (g)'].nunique() > 1:\n",
    "            correlation_lat, p_value_lat = pearsonr(meteorite_data['reclat'], meteorite_data['mass (g)'])\n",
    "            print(f'Correlation between mass and latitude: {correlation_lat}, p-value: {p_value_lat}')\n",
    "            \n",
    "            plt.figure(figsize=(10, 6))\n",
    "            sns.scatterplot(data=meteorite_data, x='reclat', y='mass (g)')\n",
    "            plt.title(f'Mass vs Latitude of Meteorite Landings\\nCorrelation: {correlation_lat:.2f}, p-value: {p_value_lat:.2e}')\n",
    "            plt.xlabel('Latitude')\n",
    "            plt.ylabel('Mass (g)')\n",
    "            plt.ylim(meteorite_data['mass (g)'].min(), meteorite_data['mass (g)'].max())\n",
    "            plt.savefig('mass_vs_latitude_meteorite_landings.png')\n",
    "            plt.clf()\n",
    "        else:\n",
    "            print(\"Not enough variation in data to perform correlation analysis between mass and latitude.\")\n",
    "\n",
    "        # Correlation and visualization for longitude\n",
    "        if meteorite_data['reclong'].nunique() > 1 and meteorite_data['mass (g)'].nunique() > 1:\n",
    "            correlation_long, p_value_long = pearsonr(meteorite_data['reclong'], meteorite_data['mass (g)'])\n",
    "            print(f'Correlation between mass and longitude: {correlation_long}, p-value: {p_value_long}')\n",
    "            \n",
    "            plt.figure(figsize=(10, 6))\n",
    "            sns.scatterplot(data=meteorite_data, x='reclong', y='mass (g)')\n",
    "            plt.title(f'Mass vs Longitude of Meteorite Landings\\nCorrelation: {correlation_long:.2f}, p-value: {p_value_long:.2e}')\n",
    "            plt.xlabel('Longitude')\n",
    "            plt.ylabel('Mass (g)')\n",
    "            plt.ylim(meteorite_data['mass (g)'].min(), meteorite_data['mass (g)'].max())\n",
    "            plt.savefig('mass_vs_longitude_meteorite_landings.png')\n",
    "            plt.clf()\n",
    "        else:\n",
    "            print(\"Not enough variation in data to perform correlation analysis between mass and longitude.\")\n",
    "    else:\n",
    "        print(\"Columns 'reclat' and/or 'reclong' not found in meteorite_data, skipping geographic correlation analysis.\")\n",
    "\n",
    "    conn.close()\n",
    "\n",
    "# Usage example\n",
    "if __name__ == \"__main__\":\n",
    "    correlation_analysis_and_visualization()\n"
   ]
  }
 ],
 "metadata": {
  "kernelspec": {
   "display_name": "spenv",
   "language": "python",
   "name": "python3"
  },
  "language_info": {
   "codemirror_mode": {
    "name": "ipython",
    "version": 3
   },
   "file_extension": ".py",
   "mimetype": "text/x-python",
   "name": "python",
   "nbconvert_exporter": "python",
   "pygments_lexer": "ipython3",
   "version": "3.10.13"
  }
 },
 "nbformat": 4,
 "nbformat_minor": 2
}
