{
 "cells": [
  {
   "cell_type": "code",
   "execution_count": 1,
   "metadata": {},
   "outputs": [
    {
     "name": "stdout",
     "output_type": "stream",
     "text": [
      "(0, 'name', 'TEXT', 0, None, 0)\n",
      "(1, 'id', 'INTEGER', 0, None, 0)\n",
      "(2, 'nametype', 'TEXT', 0, None, 0)\n",
      "(3, 'recclass', 'TEXT', 0, None, 0)\n",
      "(4, 'mass (g)', 'REAL', 0, None, 0)\n",
      "(5, 'fall', 'TEXT', 0, None, 0)\n",
      "(6, 'year', 'REAL', 0, None, 0)\n",
      "(7, 'reclat', 'REAL', 0, None, 0)\n",
      "(8, 'reclong', 'REAL', 0, None, 0)\n",
      "(9, 'GeoLocation', 'TEXT', 0, None, 0)\n"
     ]
    }
   ],
   "source": [
    "import sqlite3\n",
    "\n",
    "# Check the columns in the database\n",
    "conn = sqlite3.connect('nasa_data.db')\n",
    "cur = conn.cursor()\n",
    "cur.execute('PRAGMA table_info(meteorite_landings)')\n",
    "columns = cur.fetchall()\n",
    "for column in columns:\n",
    "    print(column)\n",
    "conn.close()\n"
   ]
  }
 ],
 "metadata": {
  "kernelspec": {
   "display_name": "spenv",
   "language": "python",
   "name": "python3"
  },
  "language_info": {
   "codemirror_mode": {
    "name": "ipython",
    "version": 3
   },
   "file_extension": ".py",
   "mimetype": "text/x-python",
   "name": "python",
   "nbconvert_exporter": "python",
   "pygments_lexer": "ipython3",
   "version": "3.10.13"
  }
 },
 "nbformat": 4,
 "nbformat_minor": 2
}
