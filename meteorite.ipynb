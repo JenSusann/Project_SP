{
 "cells": [
  {
   "cell_type": "code",
   "execution_count": 4,
   "metadata": {},
   "outputs": [
    {
     "name": "stdout",
     "output_type": "stream",
     "text": [
      "Meteoritenanalyse\n"
     ]
    }
   ],
   "source": [
    "msg = 'Meteoritenanalyse'\n",
    "print(msg)\n"
   ]
  },
  {
   "cell_type": "code",
   "execution_count": 10,
   "metadata": {},
   "outputs": [
    {
     "ename": "ImportError",
     "evalue": "cannot import name 'Globe' from 'folium.plugins' (c:\\Users\\jennifer.mentner\\AppData\\Local\\anaconda3_2\\envs\\spenv\\lib\\site-packages\\folium\\plugins\\__init__.py)",
     "output_type": "error",
     "traceback": [
      "\u001b[1;31m---------------------------------------------------------------------------\u001b[0m",
      "\u001b[1;31mImportError\u001b[0m                               Traceback (most recent call last)",
      "Cell \u001b[1;32mIn[10], line 3\u001b[0m\n\u001b[0;32m      1\u001b[0m \u001b[38;5;28;01mimport\u001b[39;00m \u001b[38;5;21;01mpandas\u001b[39;00m \u001b[38;5;28;01mas\u001b[39;00m \u001b[38;5;21;01mpd\u001b[39;00m\n\u001b[0;32m      2\u001b[0m \u001b[38;5;28;01mimport\u001b[39;00m \u001b[38;5;21;01mfolium\u001b[39;00m\n\u001b[1;32m----> 3\u001b[0m \u001b[38;5;28;01mfrom\u001b[39;00m \u001b[38;5;21;01mfolium\u001b[39;00m\u001b[38;5;21;01m.\u001b[39;00m\u001b[38;5;21;01mplugins\u001b[39;00m \u001b[38;5;28;01mimport\u001b[39;00m Globe\n\u001b[0;32m      5\u001b[0m \u001b[38;5;66;03m# Load the CSV file\u001b[39;00m\n\u001b[0;32m      6\u001b[0m data_path \u001b[38;5;241m=\u001b[39m \u001b[38;5;124m'\u001b[39m\u001b[38;5;124mMeteorite_Landings.csv\u001b[39m\u001b[38;5;124m'\u001b[39m  \u001b[38;5;66;03m# Update the path to where your CSV file is located\u001b[39;00m\n",
      "\u001b[1;31mImportError\u001b[0m: cannot import name 'Globe' from 'folium.plugins' (c:\\Users\\jennifer.mentner\\AppData\\Local\\anaconda3_2\\envs\\spenv\\lib\\site-packages\\folium\\plugins\\__init__.py)"
     ]
    }
   ],
   "source": [
    "import pandas as pd\n",
    "import folium\n",
    "from folium.plugins import Globe\n",
    "\n",
    "# Load the CSV file\n",
    "data_path = 'Meteorite_Landings.csv'  # Update the path to where your CSV file is located\n",
    "data = pd.read_csv(data_path)\n",
    "\n",
    "# Create a round, interactive globe map\n",
    "globe_map = Globe()\n",
    "\n",
    "# Since plotting all data might be intensive, let's limit the number of points\n",
    "subset_data = data.dropna(subset=['reclat', 'reclong']).sample(n=500, random_state=1)  # Adjust n for fewer or more points\n",
    "\n",
    "# Loop through the subset of data and add each meteorite location as a marker on the globe\n",
    "for idx, row in subset_data.iterrows():\n",
    "    folium.Marker(\n",
    "        [row['reclat'], row['reclong']],\n",
    "        popup=f\"{row['name']} ({row['year']})\"\n",
    "    ).add_to(globe_map)\n",
    "\n",
    "# Display the globe\n",
    "globe_map"
   ]
  }
 ],
 "metadata": {
  "kernelspec": {
   "display_name": "spenv",
   "language": "python",
   "name": "python3"
  },
  "language_info": {
   "codemirror_mode": {
    "name": "ipython",
    "version": 3
   },
   "file_extension": ".py",
   "mimetype": "text/x-python",
   "name": "python",
   "nbconvert_exporter": "python",
   "pygments_lexer": "ipython3",
   "version": "3.10.13"
  }
 },
 "nbformat": 4,
 "nbformat_minor": 2
}
