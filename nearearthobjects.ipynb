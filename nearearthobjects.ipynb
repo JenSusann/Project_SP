{
 "cells": [
  {
   "cell_type": "code",
   "execution_count": 6,
   "metadata": {},
   "outputs": [
    {
     "name": "stdout",
     "output_type": "stream",
     "text": [
      "Data retrieved successfully for the period: 2024-05-01 to 2024-05-08\n"
     ]
    },
    {
     "data": {
      "application/vnd.plotly.v1+json": {
       "config": {
        "plotlyServerURL": "https://plot.ly"
       },
       "data": [
        {
         "lat": [
          25.096823722419074,
          -85.49806405991995,
          -40.494722693558536,
          -49.8220671332119,
          42.56481854952224,
          31.80590773612404,
          70.59232218687217,
          -74.35101012670509,
          -14.054072456651326,
          -84.63650050114734,
          -50.6451645353514,
          0.9639518586052276,
          -85.22352545690455,
          -54.209222876403274,
          26.97919880031418,
          8.089466508579008,
          -50.320688032674596,
          16.067823097663563,
          55.697482202008786,
          -88.83022325794902,
          55.04746532990541,
          35.66509109788083,
          -28.754907026761465,
          -62.01369003387932,
          82.2983529972206,
          -29.412981879727184,
          -73.30574819157337,
          -72.59105216997648,
          62.54898594254277,
          18.670685646040397,
          55.28308918938845,
          41.35172160488722,
          6.521056461846129,
          85.1608375162867,
          -21.863812102496368,
          9.367313629180856,
          59.29283956553908,
          21.333555425564285,
          65.1072420559399,
          13.923386146217169,
          36.82293051868622,
          -81.7516109419808,
          -48.97831038272157,
          -37.91016655162071,
          -75.63744415374705,
          -48.09764045501457,
          -71.81974270624876,
          -39.96475144018342,
          24.423199967592026,
          -24.330207785384843,
          -23.367425918961118,
          -52.288734461132215,
          -41.943992031159596,
          78.59782578824891,
          26.64636934438684,
          19.64358102005788,
          -59.19504332434254,
          41.24282363106286,
          -60.58755112285289,
          -21.698020483623395,
          88.11420311458716,
          25.199956773736716,
          10.250953879436324,
          33.23056517817743,
          61.713345634165734,
          49.679984078324054,
          -48.771347046461216,
          -84.2219560972732,
          -33.21845134936525,
          -41.806642324373506,
          -52.023088154461234,
          79.7237485803098,
          67.74617276508039,
          -33.357981456273976,
          27.978959753078414,
          -18.78625780908044,
          74.61856615329782,
          -7.406666534268211,
          -42.32157003035056,
          -45.60704861508298,
          11.046264149367147,
          -42.70651046587165,
          15.225478240237294,
          71.60811904844584,
          -18.107909074728497,
          -50.522263351689,
          89.55676916911983,
          1.7147328617636077,
          -73.6363058087171,
          -81.51905242354778,
          -70.26315653688135,
          22.940287506556203,
          52.57428558533354,
          -14.011205976056871,
          -78.56501289264772,
          -21.30852842882338,
          89.30184844321741,
          5.240582117844667,
          84.79410797045128,
          64.94034640220966,
          -87.93341605029246,
          39.72992748483503,
          32.70786642478346,
          6.6546594735831235,
          -41.9714658085423,
          25.373123744365458,
          -69.92060875274224,
          -11.742254879561102,
          -8.329732860742837,
          81.68686695379444,
          67.65352926807492,
          -42.58997086480366,
          0.10550034905369898,
          -57.842661504576355,
          74.27301108206768,
          66.69334257061803
         ],
         "lon": [
          -72.55987507849215,
          50.02181815176186,
          39.229276117742046,
          -124.97786332213147,
          94.50388802705447,
          14.176450843065254,
          100.30553230700099,
          10.927321990263891,
          -179.79411739394033,
          -63.30381947831769,
          -172.98837274110036,
          154.47550185526217,
          136.3398760163463,
          119.3995905700246,
          -69.29491485504188,
          -159.14694006209248,
          136.0834557134546,
          160.90180030727788,
          -149.16475725556364,
          -5.043433206019046,
          -155.0834933513819,
          93.81677949260336,
          95.70039455051557,
          -133.7790727800854,
          -8.898343884456722,
          17.9292936581798,
          -84.57961358157873,
          134.0758947906927,
          -27.670341527680705,
          -103.75264604085046,
          14.146591960605008,
          82.77518487239143,
          -107.58561717970947,
          -67.78213513167782,
          178.2537683979221,
          53.95610075020326,
          -22.283969790778542,
          6.327302772812629,
          -136.43848948742433,
          -99.10895866863935,
          -58.28919762691608,
          31.79113864460399,
          -97.15869626523228,
          -100.7217415974386,
          -154.4424890367483,
          47.19706461723561,
          -97.58095782798442,
          145.95120468220608,
          129.46874409134875,
          -154.49135404008476,
          -94.31833162716173,
          60.83200018666102,
          -102.8747493466421,
          -132.367734458991,
          156.78512660904158,
          25.5755135971024,
          -9.838430527754099,
          102.46299274467123,
          110.6989191959916,
          -111.45243082972402,
          -145.1049068776236,
          -24.821574333704092,
          -27.511695712828526,
          -11.871119506797015,
          82.46730580554623,
          62.41123702558855,
          174.2994760917478,
          -144.56956638529482,
          -35.05633844318325,
          -57.851062057813266,
          130.20211308700476,
          -90.48371978869717,
          -111.52479296130785,
          -18.499122780072526,
          -28.122609659614483,
          -79.72374791990143,
          -90.06967876244383,
          152.3756157393646,
          -20.472931780755488,
          130.08567771425902,
          18.1171124819453,
          -161.78820137104276,
          179.74168862858158,
          120.96993062878266,
          168.83865262251044,
          153.49211388292593,
          125.53046438914998,
          -120.12800018259095,
          -5.169194837741344,
          -103.0509722882946,
          -35.62549468219706,
          -158.89125601001558,
          -43.56967716831019,
          174.71118376070132,
          -84.5268990580253,
          102.26541670148498,
          -16.196987757908403,
          -27.71730504354136,
          164.63435070948236,
          178.35216821737697,
          20.076596426022547,
          78.62697910667737,
          -124.27314290133691,
          -73.18518282195689,
          168.7353713888972,
          28.50490469385224,
          15.190272494738736,
          89.27120173646307,
          -159.4205017533061,
          30.30393400522965,
          1.0261378510248846,
          126.97916113738273,
          -123.32421794178603,
          165.8804051788021,
          -151.15987251338873,
          -113.10301404693965
         ],
         "marker": {
          "color": [
           "red",
           "green",
           "green",
           "green",
           "green",
           "green",
           "green",
           "green",
           "green",
           "green",
           "green",
           "red",
           "green",
           "red",
           "green",
           "green",
           "green",
           "green",
           "green",
           "green",
           "green",
           "green",
           "green",
           "green",
           "green",
           "green",
           "green",
           "green",
           "green",
           "green",
           "green",
           "green",
           "green",
           "green",
           "green",
           "green",
           "green",
           "green",
           "green",
           "green",
           "green",
           "green",
           "green",
           "green",
           "green",
           "green",
           "green",
           "green",
           "green",
           "green",
           "green",
           "green",
           "green",
           "green",
           "green",
           "green",
           "green",
           "green",
           "green",
           "green",
           "green",
           "green",
           "green",
           "green",
           "green",
           "green",
           "green",
           "green",
           "green",
           "green",
           "green",
           "green",
           "green",
           "green",
           "green",
           "green",
           "green",
           "red",
           "green",
           "green",
           "green",
           "green",
           "green",
           "green",
           "green",
           "green",
           "green",
           "green",
           "green",
           "red",
           "green",
           "green",
           "green",
           "green",
           "green",
           "green",
           "green",
           "green",
           "red",
           "red",
           "green",
           "green",
           "green",
           "red",
           "green",
           "green",
           "green",
           "green",
           "green",
           "green",
           "red",
           "green",
           "green",
           "green",
           "green",
           "green"
          ],
          "opacity": 0.8,
          "size": [
           5,
           2,
           2,
           2,
           2,
           2,
           2,
           2,
           2,
           2,
           2,
           5,
           2,
           5,
           2,
           2,
           2,
           2,
           2,
           2,
           2,
           2,
           2,
           2,
           2,
           2,
           2,
           2,
           2,
           2,
           2,
           2,
           2,
           2,
           2,
           2,
           2,
           2,
           2,
           2,
           2,
           2,
           2,
           2,
           2,
           2,
           2,
           2,
           2,
           2,
           2,
           2,
           2,
           2,
           2,
           2,
           2,
           2,
           2,
           2,
           2,
           2,
           2,
           2,
           2,
           2,
           2,
           2,
           2,
           2,
           2,
           2,
           2,
           2,
           2,
           2,
           2,
           5,
           2,
           2,
           2,
           2,
           2,
           2,
           2,
           2,
           2,
           2,
           2,
           5,
           2,
           2,
           2,
           2,
           2,
           2,
           2,
           2,
           5,
           5,
           2,
           2,
           2,
           5,
           2,
           2,
           2,
           2,
           2,
           2,
           5,
           2,
           2,
           2,
           2,
           2
          ]
         },
         "mode": "markers",
         "name": "Near-Earth Objects",
         "text": [
          "481457 (2006 XD2)",
          "(2009 HV44)",
          "(2015 DY53)",
          "(2016 JE6)",
          "(2017 HS)",
          "(2019 JF7)",
          "(2020 UV5)",
          "(2021 VN3)",
          "(2022 JY)",
          "(2024 FY3)",
          "665382 (2009 HV44)",
          "522684 (2016 JP)",
          "(2010 JE)",
          "(2015 KJ122)",
          "(2018 SF3)",
          "(2020 HJ6)",
          "(2021 TK13)",
          "(2022 JH2)",
          "(2022 KP6)",
          "(2024 GR2)",
          "(2024 HB1)",
          "(2024 HC2)",
          "(2024 JD)",
          "(2024 JG1)",
          "(2007 HW3)",
          "(2008 WB59)",
          "(2014 HC177)",
          "(2019 UE4)",
          "(2020 AM3)",
          "(2020 BJ13)",
          "(2020 XZ3)",
          "(2021 TQ8)",
          "(2022 CL12)",
          "(2022 OC3)",
          "(2022 VE)",
          "(2023 OH2)",
          "(2024 FR5)",
          "(2024 GZ2)",
          "(2024 HV1)",
          "(2024 HW1)",
          "(2024 JY)",
          "474425 (2002 YF4)",
          "(2005 HN3)",
          "(2012 QG8)",
          "(2015 TK)",
          "(2016 EN84)",
          "(2019 AP9)",
          "(2020 TS3)",
          "(2020 WN5)",
          "(2021 BO1)",
          "(2021 DW1)",
          "612970 (2005 HN3)",
          "(2022 QA3)",
          "(2023 BW)",
          "(2023 JV)",
          "(2023 JL1)",
          "(2023 VH)",
          "(2024 GE1)",
          "(2024 HE2)",
          "(2024 HL2)",
          "(2024 HM2)",
          "(2024 HY2)",
          "(2024 JF)",
          "(2024 JQ)",
          "234341 (2001 FZ57)",
          "(2009 WW7)",
          "(2012 HW1)",
          "(2015 UC67)",
          "(2017 HX)",
          "(2018 NT2)",
          "(2020 JG)",
          "(2021 JZ2)",
          "(2021 RE)",
          "(2022 AA5)",
          "(2023 UJ)",
          "(2024 GA3)",
          "96590 (1998 XB)",
          "467351 (2003 KO2)",
          "(2016 WX)",
          "(2017 TQ2)",
          "(2020 HF5)",
          "(2022 HX3)",
          "(2022 SC9)",
          "(2022 YL)",
          "(2023 XL4)",
          "(2024 HK1)",
          "(2024 HS1)",
          "(2024 JE)",
          "30825 (1990 TG1)",
          "(2020 DY1)",
          "(2020 TG1)",
          "(2021 WC3)",
          "(2022 FD1)",
          "(2022 FH1)",
          "(2022 SY1)",
          "(2023 FK)",
          "(2024 HK2)",
          "(2024 JO1)",
          "53550 (2000 BF19)",
          "(2002 JE9)",
          "(2007 GT3)",
          "(2010 PS66)",
          "(2014 DE80)",
          "(2015 WG9)",
          "(2018 JP1)",
          "(2019 GK1)",
          "(2019 TK5)",
          "(2020 VA4)",
          "(2021 JD)",
          "(2021 VK3)",
          "612358 (2002 JE9)",
          "(2023 YA2)",
          "(2024 FM2)",
          "(2024 ET5)",
          "(2024 JA)",
          "(2024 JJ1)"
         ],
         "type": "scattergeo"
        }
       ],
       "layout": {
        "geo": {
         "coastlinecolor": "rgb(63, 63, 63)",
         "landcolor": "rgb(212, 212, 212)",
         "lataxis": {
          "showgrid": true
         },
         "lonaxis": {
          "showgrid": true
         },
         "projection": {
          "rotation": {
           "lat": 45,
           "lon": -100
          },
          "type": "orthographic"
         },
         "showcoastlines": true,
         "showframe": false,
         "showland": true
        },
        "showlegend": true,
        "template": {
         "data": {
          "bar": [
           {
            "error_x": {
             "color": "#2a3f5f"
            },
            "error_y": {
             "color": "#2a3f5f"
            },
            "marker": {
             "line": {
              "color": "#E5ECF6",
              "width": 0.5
             },
             "pattern": {
              "fillmode": "overlay",
              "size": 10,
              "solidity": 0.2
             }
            },
            "type": "bar"
           }
          ],
          "barpolar": [
           {
            "marker": {
             "line": {
              "color": "#E5ECF6",
              "width": 0.5
             },
             "pattern": {
              "fillmode": "overlay",
              "size": 10,
              "solidity": 0.2
             }
            },
            "type": "barpolar"
           }
          ],
          "carpet": [
           {
            "aaxis": {
             "endlinecolor": "#2a3f5f",
             "gridcolor": "white",
             "linecolor": "white",
             "minorgridcolor": "white",
             "startlinecolor": "#2a3f5f"
            },
            "baxis": {
             "endlinecolor": "#2a3f5f",
             "gridcolor": "white",
             "linecolor": "white",
             "minorgridcolor": "white",
             "startlinecolor": "#2a3f5f"
            },
            "type": "carpet"
           }
          ],
          "choropleth": [
           {
            "colorbar": {
             "outlinewidth": 0,
             "ticks": ""
            },
            "type": "choropleth"
           }
          ],
          "contour": [
           {
            "colorbar": {
             "outlinewidth": 0,
             "ticks": ""
            },
            "colorscale": [
             [
              0,
              "#0d0887"
             ],
             [
              0.1111111111111111,
              "#46039f"
             ],
             [
              0.2222222222222222,
              "#7201a8"
             ],
             [
              0.3333333333333333,
              "#9c179e"
             ],
             [
              0.4444444444444444,
              "#bd3786"
             ],
             [
              0.5555555555555556,
              "#d8576b"
             ],
             [
              0.6666666666666666,
              "#ed7953"
             ],
             [
              0.7777777777777778,
              "#fb9f3a"
             ],
             [
              0.8888888888888888,
              "#fdca26"
             ],
             [
              1,
              "#f0f921"
             ]
            ],
            "type": "contour"
           }
          ],
          "contourcarpet": [
           {
            "colorbar": {
             "outlinewidth": 0,
             "ticks": ""
            },
            "type": "contourcarpet"
           }
          ],
          "heatmap": [
           {
            "colorbar": {
             "outlinewidth": 0,
             "ticks": ""
            },
            "colorscale": [
             [
              0,
              "#0d0887"
             ],
             [
              0.1111111111111111,
              "#46039f"
             ],
             [
              0.2222222222222222,
              "#7201a8"
             ],
             [
              0.3333333333333333,
              "#9c179e"
             ],
             [
              0.4444444444444444,
              "#bd3786"
             ],
             [
              0.5555555555555556,
              "#d8576b"
             ],
             [
              0.6666666666666666,
              "#ed7953"
             ],
             [
              0.7777777777777778,
              "#fb9f3a"
             ],
             [
              0.8888888888888888,
              "#fdca26"
             ],
             [
              1,
              "#f0f921"
             ]
            ],
            "type": "heatmap"
           }
          ],
          "heatmapgl": [
           {
            "colorbar": {
             "outlinewidth": 0,
             "ticks": ""
            },
            "colorscale": [
             [
              0,
              "#0d0887"
             ],
             [
              0.1111111111111111,
              "#46039f"
             ],
             [
              0.2222222222222222,
              "#7201a8"
             ],
             [
              0.3333333333333333,
              "#9c179e"
             ],
             [
              0.4444444444444444,
              "#bd3786"
             ],
             [
              0.5555555555555556,
              "#d8576b"
             ],
             [
              0.6666666666666666,
              "#ed7953"
             ],
             [
              0.7777777777777778,
              "#fb9f3a"
             ],
             [
              0.8888888888888888,
              "#fdca26"
             ],
             [
              1,
              "#f0f921"
             ]
            ],
            "type": "heatmapgl"
           }
          ],
          "histogram": [
           {
            "marker": {
             "pattern": {
              "fillmode": "overlay",
              "size": 10,
              "solidity": 0.2
             }
            },
            "type": "histogram"
           }
          ],
          "histogram2d": [
           {
            "colorbar": {
             "outlinewidth": 0,
             "ticks": ""
            },
            "colorscale": [
             [
              0,
              "#0d0887"
             ],
             [
              0.1111111111111111,
              "#46039f"
             ],
             [
              0.2222222222222222,
              "#7201a8"
             ],
             [
              0.3333333333333333,
              "#9c179e"
             ],
             [
              0.4444444444444444,
              "#bd3786"
             ],
             [
              0.5555555555555556,
              "#d8576b"
             ],
             [
              0.6666666666666666,
              "#ed7953"
             ],
             [
              0.7777777777777778,
              "#fb9f3a"
             ],
             [
              0.8888888888888888,
              "#fdca26"
             ],
             [
              1,
              "#f0f921"
             ]
            ],
            "type": "histogram2d"
           }
          ],
          "histogram2dcontour": [
           {
            "colorbar": {
             "outlinewidth": 0,
             "ticks": ""
            },
            "colorscale": [
             [
              0,
              "#0d0887"
             ],
             [
              0.1111111111111111,
              "#46039f"
             ],
             [
              0.2222222222222222,
              "#7201a8"
             ],
             [
              0.3333333333333333,
              "#9c179e"
             ],
             [
              0.4444444444444444,
              "#bd3786"
             ],
             [
              0.5555555555555556,
              "#d8576b"
             ],
             [
              0.6666666666666666,
              "#ed7953"
             ],
             [
              0.7777777777777778,
              "#fb9f3a"
             ],
             [
              0.8888888888888888,
              "#fdca26"
             ],
             [
              1,
              "#f0f921"
             ]
            ],
            "type": "histogram2dcontour"
           }
          ],
          "mesh3d": [
           {
            "colorbar": {
             "outlinewidth": 0,
             "ticks": ""
            },
            "type": "mesh3d"
           }
          ],
          "parcoords": [
           {
            "line": {
             "colorbar": {
              "outlinewidth": 0,
              "ticks": ""
             }
            },
            "type": "parcoords"
           }
          ],
          "pie": [
           {
            "automargin": true,
            "type": "pie"
           }
          ],
          "scatter": [
           {
            "fillpattern": {
             "fillmode": "overlay",
             "size": 10,
             "solidity": 0.2
            },
            "type": "scatter"
           }
          ],
          "scatter3d": [
           {
            "line": {
             "colorbar": {
              "outlinewidth": 0,
              "ticks": ""
             }
            },
            "marker": {
             "colorbar": {
              "outlinewidth": 0,
              "ticks": ""
             }
            },
            "type": "scatter3d"
           }
          ],
          "scattercarpet": [
           {
            "marker": {
             "colorbar": {
              "outlinewidth": 0,
              "ticks": ""
             }
            },
            "type": "scattercarpet"
           }
          ],
          "scattergeo": [
           {
            "marker": {
             "colorbar": {
              "outlinewidth": 0,
              "ticks": ""
             }
            },
            "type": "scattergeo"
           }
          ],
          "scattergl": [
           {
            "marker": {
             "colorbar": {
              "outlinewidth": 0,
              "ticks": ""
             }
            },
            "type": "scattergl"
           }
          ],
          "scattermapbox": [
           {
            "marker": {
             "colorbar": {
              "outlinewidth": 0,
              "ticks": ""
             }
            },
            "type": "scattermapbox"
           }
          ],
          "scatterpolar": [
           {
            "marker": {
             "colorbar": {
              "outlinewidth": 0,
              "ticks": ""
             }
            },
            "type": "scatterpolar"
           }
          ],
          "scatterpolargl": [
           {
            "marker": {
             "colorbar": {
              "outlinewidth": 0,
              "ticks": ""
             }
            },
            "type": "scatterpolargl"
           }
          ],
          "scatterternary": [
           {
            "marker": {
             "colorbar": {
              "outlinewidth": 0,
              "ticks": ""
             }
            },
            "type": "scatterternary"
           }
          ],
          "surface": [
           {
            "colorbar": {
             "outlinewidth": 0,
             "ticks": ""
            },
            "colorscale": [
             [
              0,
              "#0d0887"
             ],
             [
              0.1111111111111111,
              "#46039f"
             ],
             [
              0.2222222222222222,
              "#7201a8"
             ],
             [
              0.3333333333333333,
              "#9c179e"
             ],
             [
              0.4444444444444444,
              "#bd3786"
             ],
             [
              0.5555555555555556,
              "#d8576b"
             ],
             [
              0.6666666666666666,
              "#ed7953"
             ],
             [
              0.7777777777777778,
              "#fb9f3a"
             ],
             [
              0.8888888888888888,
              "#fdca26"
             ],
             [
              1,
              "#f0f921"
             ]
            ],
            "type": "surface"
           }
          ],
          "table": [
           {
            "cells": {
             "fill": {
              "color": "#EBF0F8"
             },
             "line": {
              "color": "white"
             }
            },
            "header": {
             "fill": {
              "color": "#C8D4E3"
             },
             "line": {
              "color": "white"
             }
            },
            "type": "table"
           }
          ]
         },
         "layout": {
          "annotationdefaults": {
           "arrowcolor": "#2a3f5f",
           "arrowhead": 0,
           "arrowwidth": 1
          },
          "autotypenumbers": "strict",
          "coloraxis": {
           "colorbar": {
            "outlinewidth": 0,
            "ticks": ""
           }
          },
          "colorscale": {
           "diverging": [
            [
             0,
             "#8e0152"
            ],
            [
             0.1,
             "#c51b7d"
            ],
            [
             0.2,
             "#de77ae"
            ],
            [
             0.3,
             "#f1b6da"
            ],
            [
             0.4,
             "#fde0ef"
            ],
            [
             0.5,
             "#f7f7f7"
            ],
            [
             0.6,
             "#e6f5d0"
            ],
            [
             0.7,
             "#b8e186"
            ],
            [
             0.8,
             "#7fbc41"
            ],
            [
             0.9,
             "#4d9221"
            ],
            [
             1,
             "#276419"
            ]
           ],
           "sequential": [
            [
             0,
             "#0d0887"
            ],
            [
             0.1111111111111111,
             "#46039f"
            ],
            [
             0.2222222222222222,
             "#7201a8"
            ],
            [
             0.3333333333333333,
             "#9c179e"
            ],
            [
             0.4444444444444444,
             "#bd3786"
            ],
            [
             0.5555555555555556,
             "#d8576b"
            ],
            [
             0.6666666666666666,
             "#ed7953"
            ],
            [
             0.7777777777777778,
             "#fb9f3a"
            ],
            [
             0.8888888888888888,
             "#fdca26"
            ],
            [
             1,
             "#f0f921"
            ]
           ],
           "sequentialminus": [
            [
             0,
             "#0d0887"
            ],
            [
             0.1111111111111111,
             "#46039f"
            ],
            [
             0.2222222222222222,
             "#7201a8"
            ],
            [
             0.3333333333333333,
             "#9c179e"
            ],
            [
             0.4444444444444444,
             "#bd3786"
            ],
            [
             0.5555555555555556,
             "#d8576b"
            ],
            [
             0.6666666666666666,
             "#ed7953"
            ],
            [
             0.7777777777777778,
             "#fb9f3a"
            ],
            [
             0.8888888888888888,
             "#fdca26"
            ],
            [
             1,
             "#f0f921"
            ]
           ]
          },
          "colorway": [
           "#636efa",
           "#EF553B",
           "#00cc96",
           "#ab63fa",
           "#FFA15A",
           "#19d3f3",
           "#FF6692",
           "#B6E880",
           "#FF97FF",
           "#FECB52"
          ],
          "font": {
           "color": "#2a3f5f"
          },
          "geo": {
           "bgcolor": "white",
           "lakecolor": "white",
           "landcolor": "#E5ECF6",
           "showlakes": true,
           "showland": true,
           "subunitcolor": "white"
          },
          "hoverlabel": {
           "align": "left"
          },
          "hovermode": "closest",
          "mapbox": {
           "style": "light"
          },
          "paper_bgcolor": "white",
          "plot_bgcolor": "#E5ECF6",
          "polar": {
           "angularaxis": {
            "gridcolor": "white",
            "linecolor": "white",
            "ticks": ""
           },
           "bgcolor": "#E5ECF6",
           "radialaxis": {
            "gridcolor": "white",
            "linecolor": "white",
            "ticks": ""
           }
          },
          "scene": {
           "xaxis": {
            "backgroundcolor": "#E5ECF6",
            "gridcolor": "white",
            "gridwidth": 2,
            "linecolor": "white",
            "showbackground": true,
            "ticks": "",
            "zerolinecolor": "white"
           },
           "yaxis": {
            "backgroundcolor": "#E5ECF6",
            "gridcolor": "white",
            "gridwidth": 2,
            "linecolor": "white",
            "showbackground": true,
            "ticks": "",
            "zerolinecolor": "white"
           },
           "zaxis": {
            "backgroundcolor": "#E5ECF6",
            "gridcolor": "white",
            "gridwidth": 2,
            "linecolor": "white",
            "showbackground": true,
            "ticks": "",
            "zerolinecolor": "white"
           }
          },
          "shapedefaults": {
           "line": {
            "color": "#2a3f5f"
           }
          },
          "ternary": {
           "aaxis": {
            "gridcolor": "white",
            "linecolor": "white",
            "ticks": ""
           },
           "baxis": {
            "gridcolor": "white",
            "linecolor": "white",
            "ticks": ""
           },
           "bgcolor": "#E5ECF6",
           "caxis": {
            "gridcolor": "white",
            "linecolor": "white",
            "ticks": ""
           }
          },
          "title": {
           "x": 0.05
          },
          "xaxis": {
           "automargin": true,
           "gridcolor": "white",
           "linecolor": "white",
           "ticks": "",
           "title": {
            "standoff": 15
           },
           "zerolinecolor": "white",
           "zerolinewidth": 2
          },
          "yaxis": {
           "automargin": true,
           "gridcolor": "white",
           "linecolor": "white",
           "ticks": "",
           "title": {
            "standoff": 15
           },
           "zerolinecolor": "white",
           "zerolinewidth": 2
          }
         }
        },
        "title": {
         "text": "Near Earth Objects Orbiting Earth"
        }
       }
      }
     },
     "metadata": {},
     "output_type": "display_data"
    }
   ],
   "source": [
    "import requests\n",
    "import pandas as pd\n",
    "import plotly.graph_objs as go\n",
    "from datetime import datetime, timedelta\n",
    "\n",
    "# Replace this with your actual API key\n",
    "api_key = 'UFvGKAnwQkIgSwLrTndbScEG3Z4J4DeypSJiC5FJ'\n",
    "start_date = '2024-05-01'\n",
    "end_date = (datetime.strptime(start_date, '%Y-%m-%d') + timedelta(days=7)).strftime('%Y-%m-%d')\n",
    "\n",
    "# Construct the API URL\n",
    "url = f'https://api.nasa.gov/neo/rest/v1/feed?start_date={start_date}&end_date={end_date}&api_key={api_key}'\n",
    "\n",
    "# Fetch the data from NASA's NeoWs API\n",
    "response = requests.get(url)\n",
    "data = response.json()\n",
    "\n",
    "# Check for errors in the response\n",
    "if response.status_code != 200:\n",
    "    raise Exception(f'Error: {data.get(\"error_message\", \"Unknown Error\")}')\n",
    "else:\n",
    "    print(f'Data retrieved successfully for the period: {start_date} to {end_date}')\n",
    "\n",
    "# Process the data\n",
    "near_earth_objects = data['near_earth_objects']\n",
    "objects_list = []\n",
    "for date, neos in near_earth_objects.items():\n",
    "    for neo in neos:\n",
    "        close_approach = neo['close_approach_data'][0]\n",
    "        neo_data = {\n",
    "            'name': neo['name'],\n",
    "            'id': neo['id'],\n",
    "            'close_approach_date': date,\n",
    "            'relative_velocity_km_s': float(close_approach['relative_velocity']['kilometers_per_second']),\n",
    "            'miss_distance_km': float(close_approach['miss_distance']['kilometers']),\n",
    "            'orbiting_body': close_approach['orbiting_body'],\n",
    "            'is_potentially_hazardous': neo['is_potentially_hazardous_asteroid'],\n",
    "            'latitude': float(close_approach['orbiting_body'] == 'Earth') * 10.0,\n",
    "            'longitude': float(close_approach['orbiting_body'] == 'Earth') * 10.0\n",
    "        }\n",
    "        objects_list.append(neo_data)\n",
    "\n",
    "# Create a DataFrame\n",
    "df = pd.DataFrame(objects_list)\n",
    "\n",
    "# Example latitude/longitude values for visualization\n",
    "import random\n",
    "\n",
    "random.seed(42)\n",
    "df['latitude'] = [random.uniform(-90, 90) for _ in range(len(df))]\n",
    "df['longitude'] = [random.uniform(-180, 180) for _ in range(len(df))]\n",
    "\n",
    "# Globe visualization using Plotly\n",
    "fig = go.Figure()\n",
    "\n",
    "# Add NEOs as scattergeo\n",
    "fig.add_trace(go.Scattergeo(\n",
    "    lon=df['longitude'],\n",
    "    lat=df['latitude'],\n",
    "    text=df['name'],\n",
    "    mode='markers',\n",
    "    marker=dict(\n",
    "        size=[5 if ph else 2 for ph in df['is_potentially_hazardous']],\n",
    "        color=['red' if ph else 'green' for ph in df['is_potentially_hazardous']],\n",
    "        opacity=0.8\n",
    "    ),\n",
    "    name='Near-Earth Objects'\n",
    "))\n",
    "\n",
    "# Configure globe appearance\n",
    "fig.update_geos(\n",
    "    projection_type='orthographic',\n",
    "    showcoastlines=True,\n",
    "    showland=True,\n",
    "    landcolor='rgb(212, 212, 212)',\n",
    "    coastlinecolor='rgb(63, 63, 63)',\n",
    "    projection_rotation=dict(lon=-100, lat=45),\n",
    "    lataxis_showgrid=True,\n",
    "    lonaxis_showgrid=True\n",
    ")\n",
    "\n",
    "fig.update_layout(\n",
    "    title_text='Near Earth Objects Orbiting Earth',\n",
    "    showlegend=True,\n",
    "    geo=dict(\n",
    "        showframe=False,\n",
    "        showcoastlines=True,\n",
    "        projection_type='orthographic'\n",
    "    )\n",
    ")\n",
    "\n",
    "fig.show()\n"
   ]
  }
 ],
 "metadata": {
  "kernelspec": {
   "display_name": "spenv",
   "language": "python",
   "name": "python3"
  },
  "language_info": {
   "codemirror_mode": {
    "name": "ipython",
    "version": 3
   },
   "file_extension": ".py",
   "mimetype": "text/x-python",
   "name": "python",
   "nbconvert_exporter": "python",
   "pygments_lexer": "ipython3",
   "version": "3.10.13"
  }
 },
 "nbformat": 4,
 "nbformat_minor": 2
}
