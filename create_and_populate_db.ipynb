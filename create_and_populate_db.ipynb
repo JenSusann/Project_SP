{
 "cells": [
  {
   "cell_type": "code",
   "execution_count": 1,
   "metadata": {},
   "outputs": [],
   "source": [
    "import sqlite3\n",
    "import pandas as pd\n",
    "\n",
    "def create_and_populate_database(neows_file, meteorite_file, db_file='nasa_data.db'):\n",
    "    conn = sqlite3.connect(db_file)\n",
    "    cur = conn.cursor()\n",
    "\n",
    "    # Create tables\n",
    "    cur.execute('''\n",
    "    CREATE TABLE IF NOT EXISTS neows_data (\n",
    "        id TEXT PRIMARY KEY,\n",
    "        name TEXT,\n",
    "        close_approach_date TEXT,\n",
    "        miss_distance_km REAL,\n",
    "        absolute_magnitude_h REAL,\n",
    "        estimated_diameter_km_min REAL,\n",
    "        estimated_diameter_km_max REAL,\n",
    "        is_potentially_hazardous INTEGER\n",
    "    )''')\n",
    "\n",
    "    cur.execute('''\n",
    "    CREATE TABLE IF NOT EXISTS meteorite_landings (\n",
    "        name TEXT,\n",
    "        id INTEGER PRIMARY KEY,\n",
    "        nametype TEXT,\n",
    "        recclass TEXT,\n",
    "        mass REAL,\n",
    "        fall TEXT,\n",
    "        year INTEGER,\n",
    "        reclat REAL,\n",
    "        reclong REAL,\n",
    "        geolocation TEXT\n",
    "    )''')\n",
    "\n",
    "    # Load and insert data\n",
    "    neows_data = pd.read_csv(neows_file)\n",
    "    neows_data.to_sql('neows_data', conn, if_exists='replace', index=False)\n",
    "\n",
    "    meteorite_data = pd.read_csv(meteorite_file)\n",
    "    meteorite_data.to_sql('meteorite_landings', conn, if_exists='replace', index=False)\n",
    "\n",
    "    conn.commit()\n",
    "    conn.close()\n",
    "\n",
    "# Usage example\n",
    "if __name__ == \"__main__\":\n",
    "    create_and_populate_database('neows_data.csv', 'meteorite_landings_clean.csv')\n"
   ]
  }
 ],
 "metadata": {
  "kernelspec": {
   "display_name": "spenv",
   "language": "python",
   "name": "python3"
  },
  "language_info": {
   "codemirror_mode": {
    "name": "ipython",
    "version": 3
   },
   "file_extension": ".py",
   "mimetype": "text/x-python",
   "name": "python",
   "nbconvert_exporter": "python",
   "pygments_lexer": "ipython3",
   "version": "3.10.13"
  }
 },
 "nbformat": 4,
 "nbformat_minor": 2
}
