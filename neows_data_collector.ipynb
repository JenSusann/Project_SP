{
 "cells": [
  {
   "cell_type": "code",
   "execution_count": 1,
   "metadata": {},
   "outputs": [],
   "source": [
    "import requests\n",
    "import pandas as pd\n",
    "import sqlite3\n",
    "from datetime import datetime, timedelta\n",
    "\n",
    "# API Endpoint\n",
    "NEO_FEED_URL = \"https://api.nasa.gov/neo/rest/v1/feed\"\n",
    "\n",
    "def fetch_neows_data(api_key, start_date=None, end_date=None):\n",
    "    if start_date is None:\n",
    "        start_date = (datetime.today() - timedelta(days=7)).strftime(\"%Y-%m-%d\")\n",
    "    if end_date is None:\n",
    "        end_date = datetime.today().strftime(\"%Y-%m-%d\")\n",
    "\n",
    "    response = requests.get(NEO_FEED_URL, params={\n",
    "        'start_date': start_date,\n",
    "        'end_date': end_date,\n",
    "        'api_key': api_key\n",
    "    })\n",
    "\n",
    "    data = response.json()\n",
    "    asteroids = []\n",
    "    for day_data in data['near_earth_objects'].values():\n",
    "        for asteroid in day_data:\n",
    "            asteroids.append({\n",
    "                'id': asteroid['id'],\n",
    "                'name': asteroid['name'],\n",
    "                'close_approach_date': asteroid['close_approach_data'][0]['close_approach_date'],\n",
    "                'miss_distance_km': float(asteroid['close_approach_data'][0]['miss_distance']['kilometers']),\n",
    "                'absolute_magnitude_h': asteroid['absolute_magnitude_h'],\n",
    "                'estimated_diameter_km_min': asteroid['estimated_diameter']['kilometers']['estimated_diameter_min'],\n",
    "                'estimated_diameter_km_max': asteroid['estimated_diameter']['kilometers']['estimated_diameter_max'],\n",
    "                'is_potentially_hazardous': asteroid['is_potentially_hazardous_asteroid']\n",
    "            })\n",
    "\n",
    "    return pd.DataFrame(asteroids)\n",
    "\n",
    "# Usage example\n",
    "if __name__ == \"__main__\":\n",
    "    api_key = \"UFvGKAnwQkIgSwLrTndbScEG3Z4J4DeypSJiC5FJ\" \n",
    "    neows_data = fetch_neows_data(api_key)\n",
    "    neows_data.to_csv('neows_data.csv', index=False)\n"
   ]
  }
 ],
 "metadata": {
  "kernelspec": {
   "display_name": "spenv",
   "language": "python",
   "name": "python3"
  },
  "language_info": {
   "codemirror_mode": {
    "name": "ipython",
    "version": 3
   },
   "file_extension": ".py",
   "mimetype": "text/x-python",
   "name": "python",
   "nbconvert_exporter": "python",
   "pygments_lexer": "ipython3",
   "version": "3.10.13"
  }
 },
 "nbformat": 4,
 "nbformat_minor": 2
}
