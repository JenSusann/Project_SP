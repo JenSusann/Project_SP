{
 "cells": [
  {
   "cell_type": "code",
   "execution_count": 5,
   "metadata": {},
   "outputs": [
    {
     "name": "stdout",
     "output_type": "stream",
     "text": [
      " * Serving Flask app '__main__'\n",
      " * Debug mode: off\n"
     ]
    },
    {
     "name": "stderr",
     "output_type": "stream",
     "text": [
      "WARNING: This is a development server. Do not use it in a production deployment. Use a production WSGI server instead.\n",
      " * Running on all addresses (0.0.0.0)\n",
      " * Running on http://127.0.0.1:5000\n",
      " * Running on http://192.168.1.108:5000\n",
      "Press CTRL+C to quit\n",
      "127.0.0.1 - - [05/May/2024 15:40:00] \"GET / HTTP/1.1\" 200 -\n",
      "127.0.0.1 - - [05/May/2024 15:40:01] \"GET /static/miss_distance_vs_magnitude.png HTTP/1.1\" 200 -\n",
      "127.0.0.1 - - [05/May/2024 15:40:01] \"GET /static/potentially_hazardous_asteroids.png HTTP/1.1\" 200 -\n",
      "127.0.0.1 - - [05/May/2024 15:40:04] \"GET /favicon.ico HTTP/1.1\" 404 -\n"
     ]
    }
   ],
   "source": [
    "from flask import Flask, render_template\n",
    "import sqlite3\n",
    "import pandas as pd\n",
    "\n",
    "app = Flask(__name__)\n",
    "\n",
    "@app.route('/')\n",
    "def index():\n",
    "    conn = sqlite3.connect('nasa_data.db')\n",
    "    neows_data = pd.read_sql('SELECT * FROM neows_data', conn).to_html(classes='table', index=False)\n",
    "    meteorite_data = pd.read_sql('SELECT * FROM meteorite_landings', conn).to_html(classes='table', index=False)\n",
    "    conn.close()\n",
    "    return render_template('index.html', neows_data=neows_data, meteorite_data=meteorite_data)\n",
    "\n",
    "if __name__ == '__main__':\n",
    "    app.run(host='0.0.0.0', port=5000, debug=False, use_reloader=False)\n"
   ]
  }
 ],
 "metadata": {
  "kernelspec": {
   "display_name": "spenv",
   "language": "python",
   "name": "python3"
  },
  "language_info": {
   "codemirror_mode": {
    "name": "ipython",
    "version": 3
   },
   "file_extension": ".py",
   "mimetype": "text/x-python",
   "name": "python",
   "nbconvert_exporter": "python",
   "pygments_lexer": "ipython3",
   "version": "3.10.13"
  }
 },
 "nbformat": 4,
 "nbformat_minor": 2
}
