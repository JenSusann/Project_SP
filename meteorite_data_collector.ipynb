{
 "cells": [
  {
   "cell_type": "code",
   "execution_count": 3,
   "metadata": {},
   "outputs": [],
   "source": [
    "import pandas as pd\n",
    "import sqlite3\n",
    "\n",
    "def prepare_meteorite_data(csv_file):\n",
    "    df = pd.read_csv(csv_file)\n",
    "    df.columns = [col.strip() for col in df.columns]  # Clean column names\n",
    "    df['year'] = pd.to_datetime(df['year'], errors='coerce').dt.year\n",
    "    df = df.dropna(subset=['reclat', 'reclong', 'year'])\n",
    "    df = df[df['year'] >= 1900]\n",
    "    return df\n",
    "\n",
    "# Usage example\n",
    "if __name__ == \"__main__\":\n",
    "    meteorite_data = prepare_meteorite_data('Meteorite_Landings.csv')\n",
    "    meteorite_data.to_csv('meteorite_landings_clean.csv', index=False)\n"
   ]
  }
 ],
 "metadata": {
  "kernelspec": {
   "display_name": "spenv",
   "language": "python",
   "name": "python3"
  },
  "language_info": {
   "codemirror_mode": {
    "name": "ipython",
    "version": 3
   },
   "file_extension": ".py",
   "mimetype": "text/x-python",
   "name": "python",
   "nbconvert_exporter": "python",
   "pygments_lexer": "ipython3",
   "version": "3.10.13"
  }
 },
 "nbformat": 4,
 "nbformat_minor": 2
}
